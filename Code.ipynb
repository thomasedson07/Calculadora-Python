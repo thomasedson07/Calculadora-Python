{
  "nbformat": 4,
  "nbformat_minor": 0,
  "metadata": {
    "colab": {
      "provenance": [],
      "toc_visible": true,
      "authorship_tag": "ABX9TyNAAr4/1NbDA5Ge+VIE3FOs",
      "include_colab_link": true
    },
    "kernelspec": {
      "name": "python3",
      "display_name": "Python 3"
    },
    "language_info": {
      "name": "python"
    }
  },
  "cells": [
    {
      "cell_type": "markdown",
      "metadata": {
        "id": "view-in-github",
        "colab_type": "text"
      },
      "source": [
        "<a href=\"https://colab.research.google.com/github/thomasedson07/Calculadora-Python/blob/main/Code.ipynb\" target=\"_parent\"><img src=\"https://colab.research.google.com/assets/colab-badge.svg\" alt=\"Open In Colab\"/></a>"
      ]
    },
    {
      "cell_type": "code",
      "execution_count": null,
      "metadata": {
        "id": "8HTwSUMPpNPN"
      },
      "outputs": [],
      "source": [
        "1\n",
        "while True:\n",
        "    # Receber os números do usuário\n",
        "    num1 = float(input(\"\\nDigite o primeiro número: \"))\n",
        "    num2 = float(input(\"Digite o segundo número: \"))\n",
        "\n",
        "    # Opções de operação\n",
        "    print(\"\\nEscolha uma operação:\")\n",
        "    print(\"1 - Soma\")\n",
        "    print(\"2 - Subtração\")\n",
        "    print(\"3 - Multiplicação\")\n",
        "    print(\"4 - Divisão\")\n",
        "    print(\"5 - Sair\")\n",
        "\n",
        "    # Receber a escolha do usuário\n",
        "    operacao = input(\"Escolha a operação (1/2/3/4/5): \")\n",
        "\n",
        "    # Realizar a operação\n",
        "    if operacao == '1':\n",
        "        resultado = num1 + num2\n",
        "        print(f\"Resultado: {resultado}\")\n",
        "    elif operacao == '2':\n",
        "        resultado = num1 - num2\n",
        "        print(f\"Resultado: {resultado}\")\n",
        "    elif operacao == '3':\n",
        "        resultado = num1 * num2\n",
        "        print(f\"Resultado: {resultado}\")\n",
        "    elif operacao == '4':\n",
        "        if num2 != 0:\n",
        "            resultado = num1 / num2\n",
        "            print(f\"Resultado: {resultado}\")\n",
        "        else:\n",
        "            print(\"Erro! Não pode dividir por zero.\")\n",
        "    elif operacao == '5':\n",
        "        print(\"Saindo da calculadora. Até mais!\")\n",
        "        break\n",
        "    else:\n",
        "        print(\"Opção inválida! Escolha uma operação válida.\")\n",
        "\n",
        "\n",
        "\n",
        "\n",
        "\n",
        "\n"
      ]
    },
    {
      "cell_type": "markdown",
      "source": [],
      "metadata": {
        "id": "MnzVmvVFpQ3q"
      }
    }
  ]
}